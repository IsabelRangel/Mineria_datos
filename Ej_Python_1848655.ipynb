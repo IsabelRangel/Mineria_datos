{
  "nbformat": 4,
  "nbformat_minor": 0,
  "metadata": {
    "colab": {
      "name": "Ej_Python_1848655.ipynb",
      "provenance": [],
      "collapsed_sections": [],
      "authorship_tag": "ABX9TyPb56XKd1Mm33oSq7tuOp9w",
      "include_colab_link": true
    },
    "kernelspec": {
      "name": "python3",
      "display_name": "Python 3"
    },
    "language_info": {
      "name": "python"
    }
  },
  "cells": [
    {
      "cell_type": "markdown",
      "metadata": {
        "id": "view-in-github",
        "colab_type": "text"
      },
      "source": [
        "<a href=\"https://colab.research.google.com/github/IsabelRangel/Mineria_datos/blob/main/Ej_Python_1848655.ipynb\" target=\"_parent\"><img src=\"https://colab.research.google.com/assets/colab-badge.svg\" alt=\"Open In Colab\"/></a>"
      ]
    },
    {
      "cell_type": "markdown",
      "metadata": {
        "id": "sthI3ggw6nRr"
      },
      "source": [
        "Isabel Alejandra Rangel Vallejo 1848655\n",
        "Ejercicios básicos de python\n"
      ]
    },
    {
      "cell_type": "markdown",
      "metadata": {
        "id": "2ySJEBk266Y_"
      },
      "source": [
        "### **Ejercicio 1:**\n",
        "Realiza una variable con tu matricula y realiza una secuencia de imprimir con tu nombre y tu matricula concatenados."
      ]
    },
    {
      "cell_type": "code",
      "metadata": {
        "colab": {
          "base_uri": "https://localhost:8080/"
        },
        "id": "WlXIBI3N61w_",
        "outputId": "e64ea7c3-cf6c-4641-c2ac-d27189370712"
      },
      "source": [
        "mat= 1848655\n",
        "nom=\"Isabel\"\n",
        "print(nom,mat)"
      ],
      "execution_count": null,
      "outputs": [
        {
          "output_type": "stream",
          "text": [
            "Isabel 1848655\n"
          ],
          "name": "stdout"
        }
      ]
    },
    {
      "cell_type": "markdown",
      "metadata": {
        "id": "khr5jZbe7sZ4"
      },
      "source": [
        "## **Ejercicio** 2:\n",
        "Pidiendo el input del usuario pide dos números y crea una pequeña calculadora con los operadores básicos de suma, resta, multiplicación, división, y exponente."
      ]
    },
    {
      "cell_type": "code",
      "metadata": {
        "colab": {
          "base_uri": "https://localhost:8080/"
        },
        "id": "mEXiNT-97x4h",
        "outputId": "68d11960-d61c-4a04-b423-886793d41745"
      },
      "source": [
        "num1=int(input(\"Escriba un número: \"))\n",
        "num2=int(input(\"Escriba un número: \"))\n",
        "op=str(input(\"¿Qué desea hacer? (suma, división,multiplicación,exponente)\")) #tine que escribir la operacion que desde como esta en los parentesis\n",
        "if op==\"suma\":\n",
        "  x=num1+num2\n",
        "if op==\"división\":\n",
        "  x=num1/num2\n",
        "if op==\"multiplicación\":\n",
        "  x=num1*num2\n",
        "if op==\"exponente\":\n",
        "  x=num1**num2\n",
        "\n",
        "print(\"Respuesta:\" ,x)"
      ],
      "execution_count": null,
      "outputs": [
        {
          "output_type": "stream",
          "text": [
            "Escriba un número: 1\n",
            "Escriba un número: 1\n",
            "¿Qué desea hacer? (suma, división,multiplicación,exponente)exponente\n",
            "Respuesta: 1\n"
          ],
          "name": "stdout"
        }
      ]
    },
    {
      "cell_type": "markdown",
      "metadata": {
        "id": "Sk6NcFJ_8ClV"
      },
      "source": [
        "## **Ejercicio** 3:\n",
        "Con loop while o for, realiza una lista de 10 numeros multiplos de 3, y después realiza una función de loop que sume todos los números dentro del arreglo."
      ]
    },
    {
      "cell_type": "code",
      "metadata": {
        "colab": {
          "base_uri": "https://localhost:8080/"
        },
        "id": "VzfVmL6M8Fr4",
        "outputId": "395e5c4a-0602-42b8-fc2c-a2684f831c56"
      },
      "source": [
        "print(\"Lista de 10 numeros multiplos de 3\")\n",
        "for i in range(3,33,3):\n",
        "    print (i)\n",
        "\n",
        "sum=0\n",
        "i=1\n",
        "while 3*i <= 30:\n",
        "    x=3*i\n",
        "    sum=sum+x\n",
        "    i=i+1\n",
        "print(\"La suma es :\",sum)\n"
      ],
      "execution_count": null,
      "outputs": [
        {
          "output_type": "stream",
          "text": [
            "Lista de 10 numeros multiplos de 3\n",
            "3\n",
            "6\n",
            "9\n",
            "12\n",
            "15\n",
            "18\n",
            "21\n",
            "24\n",
            "27\n",
            "30\n",
            "La suma es : 165\n"
          ],
          "name": "stdout"
        }
      ]
    },
    {
      "cell_type": "markdown",
      "metadata": {
        "id": "H0WijkNHAMWa"
      },
      "source": [
        "## **Ejercicio** 4\n",
        "Con una función de if else, revisar si un número es par o es impar.\n",
        "Con una función de if else, revisar si un número es primo o no."
      ]
    },
    {
      "cell_type": "code",
      "metadata": {
        "colab": {
          "base_uri": "https://localhost:8080/"
        },
        "id": "H1b_l3IvASHv",
        "outputId": "856cd3bf-529f-4ec1-b121-cda1ae6c77d3"
      },
      "source": [
        "cont=0\n",
        "num=int(input(\"Escriba un número: \"))\n",
        "x= num%2\n",
        "if x==0:\n",
        "    print(\"El numero es par\")\n",
        "else:\n",
        "    print(\"El numero es impar\")\n",
        "\n",
        "y=int(input(\"Escriba un numéro: \"))\n",
        "for i in range(1, y+1):\n",
        "  if y%i==0:\n",
        "    cont=cont+1\n",
        "if cont==2:\n",
        "    print(\"El número\", y, \" es primo\")\n",
        "else:\n",
        "    print(\"El número\", y, \"no es primo\")\n",
        "\n"
      ],
      "execution_count": null,
      "outputs": [
        {
          "output_type": "stream",
          "text": [
            "Escriba un número: 4\n",
            "El numero es par\n",
            "Escriba un numéro: 4\n",
            "El número 4 no es primo\n"
          ],
          "name": "stdout"
        }
      ]
    },
    {
      "cell_type": "markdown",
      "metadata": {
        "id": "elp4_a-iGh7e"
      },
      "source": [
        "## **Ejercicio** 5\n",
        "Utilizando diferentes clases en python, crea una calculadora con los operadores básicos de suma, resta, multiplicación, división, y exponente."
      ]
    },
    {
      "cell_type": "code",
      "metadata": {
        "colab": {
          "base_uri": "https://localhost:8080/"
        },
        "id": "03Ci6mq3Gp7Q",
        "outputId": "7e8a8a96-7793-4251-c169-f47aea9d9734"
      },
      "source": [
        "\n",
        "num1=float(input(\"Escriba un número: \"))\n",
        "num2=float(input(\"Escriba un número: \"))\n",
        "op=str(input(\"¿Qué desea hacer? (suma, división,multiplicación,exponente):    \")) #tine que escribir la operacion que desde como esta en los parentesis\n",
        "if op==\"suma\":\n",
        "  x=num1+num2\n",
        "  print(\"Respuesta:\" ,x)\n",
        "elif op==\"división\":\n",
        "  x=num1/num2\n",
        "  print(\"Respuesta:\" ,x)\n",
        "elif op==\"multiplicación\":\n",
        "  x=num1*num2\n",
        "  print(\"Respuesta:\" ,x)\n",
        "elif op==\"exponente\":\n",
        "  x=num1**num2\n",
        "  print(\"Respuesta:\" ,x)\n",
        "else:\n",
        "  print(\"Favor de e1scribir la operación que desee como viene en los parentesis\")\n",
        "  print(\"Respuesta:ERROR\")\n",
        "\n"
      ],
      "execution_count": null,
      "outputs": [
        {
          "output_type": "stream",
          "text": [
            "Escriba un número: 2\n",
            "Escriba un número: 2\n",
            "¿Qué desea hacer? (suma, división,multiplicación,exponente):    exponente\n",
            "Respuesta: 4.0\n"
          ],
          "name": "stdout"
        }
      ]
    },
    {
      "cell_type": "markdown",
      "metadata": {
        "id": "cQjWlZLiLUpx"
      },
      "source": [
        "## **Tuplas**\n",
        "1)Crear una variable flotante, integer, boleana y compleja e imprimir el tipo de variable que es.\n",
        "\n",
        "2)Crear una tupla con valores enteros imprimir el primer y ultimo valor.\n",
        "\n",
        "3)Añadir 3 valores de string a la tupla.\n",
        "\n",
        "4)Verificar si una variable existe dentro de la tupla."
      ]
    },
    {
      "cell_type": "code",
      "metadata": {
        "colab": {
          "base_uri": "https://localhost:8080/"
        },
        "id": "YbiV-T5FLjvK",
        "outputId": "d817d844-4c0a-4319-e106-ce5b9fa1c847"
      },
      "source": [
        "#Ejercicio 1\n",
        "flo=3.1416\n",
        "print(type(flo))\n",
        "inte=1\n",
        "print(type(inte))\n",
        "boleana=True\n",
        "print(type(boleana))\n",
        "com=3+9j\n",
        "print(type(com))"
      ],
      "execution_count": null,
      "outputs": [
        {
          "output_type": "stream",
          "text": [
            "<class 'float'>\n",
            "<class 'int'>\n",
            "<class 'bool'>\n",
            "<class 'complex'>\n"
          ],
          "name": "stdout"
        }
      ]
    },
    {
      "cell_type": "code",
      "metadata": {
        "colab": {
          "base_uri": "https://localhost:8080/"
        },
        "id": "Njv4sx8WMPGv",
        "outputId": "407427b9-5cae-4c43-cb3c-92c3904353f9"
      },
      "source": [
        "#Ejercicio 2\n",
        "x=(23,34,67,12,89,78,17,90,39,76)\n",
        "print(x[0])\n",
        "print(x[9])"
      ],
      "execution_count": null,
      "outputs": [
        {
          "output_type": "stream",
          "text": [
            "23\n",
            "76\n"
          ],
          "name": "stdout"
        }
      ]
    },
    {
      "cell_type": "code",
      "metadata": {
        "colab": {
          "base_uri": "https://localhost:8080/"
        },
        "id": "aAF6janhNUoM",
        "outputId": "d4faf009-a5c0-4950-c2de-3b940a0d2908"
      },
      "source": [
        "#Ejercicio 3\n",
        "p=(\"a\",\"e\",\"i\")\n",
        "x=(23,34,67,12,89,78,17,90,39,76)\n",
        "z=x+p\n",
        "print(z)"
      ],
      "execution_count": null,
      "outputs": [
        {
          "output_type": "stream",
          "text": [
            "(23, 34, 67, 12, 89, 78, 17, 90, 39, 76, 'a', 'e', 'i')\n"
          ],
          "name": "stdout"
        }
      ]
    },
    {
      "cell_type": "code",
      "metadata": {
        "colab": {
          "base_uri": "https://localhost:8080/"
        },
        "id": "Blu7EBilOjVa",
        "outputId": "f4b35fce-3b39-4321-cb2c-46bcd63be9ea"
      },
      "source": [
        "#Ejercicio \n",
        "x=(23, 34, 67, 12, 89, 78, 17, 90, 39, 76, 'a', 'e', 'i')\n",
        "y=\"e\" #variable a buscar\n",
        "if y in x: \n",
        "    print(\"La variable existe\")\n",
        "else:\n",
        "    print(\"La variable no existe\")"
      ],
      "execution_count": null,
      "outputs": [
        {
          "output_type": "stream",
          "text": [
            "La variable existe\n"
          ],
          "name": "stdout"
        }
      ]
    },
    {
      "cell_type": "markdown",
      "metadata": {
        "id": "dxLibH7-ZISQ"
      },
      "source": [
        "## **Listas**\n",
        "1)Crear una lista con 40 elementos aleatorios enteros.\n",
        "\n",
        "2)Con una funcion (def) crear dos listas nuevas a partir de la lista creada por numeros aleatorios, en la cual en una esten los elementos pares, y en la otra los elementos impares.\n",
        "\n",
        "3)Crear dos variables con la longitud de ambas listas nuevas e imprimir las variables.\n",
        "\n",
        "4)Ordenar los elementos de la lista par de mayor a menor, y los de la lista impar de menor a mayor.\n",
        "\n",
        "5)Utilizar al menos cuatro de las funciones de listas en python en la lista original de 40 elementos."
      ]
    },
    {
      "cell_type": "code",
      "metadata": {
        "colab": {
          "base_uri": "https://localhost:8080/"
        },
        "id": "nqTG5X6j8jGp",
        "outputId": "59d481b8-d60e-43a7-9f62-56d24b51581d"
      },
      "source": [
        "# ejercicio 1\n",
        "import random as rdm\n",
        "n=range(0,100000)\n",
        "x=rdm.sample(n,40)\n",
        "print(\"la lista es\" ,x)\n",
        "\n",
        "\n",
        "#ejercicio 2  pagina web que utilice: https://devcode.la/tutoriales/funciones-en-python/\n",
        "def crearlistas(x):\n",
        "    par=[]\n",
        "    impar=[]\n",
        "    y=len(x)\n",
        "    i=0\n",
        "    for i in range(0,y):\n",
        "        if x[i]%2==0:\n",
        "            par.append(x[i]) \n",
        "        else:\n",
        "             impar.append(x[i])\n",
        "    a=len(par)\n",
        "    b=len(impar)\n",
        "    print(\"longitud de lista de numeros par:\",a)\n",
        "    print(\"longitu de lista de numeros impares\",b)\n",
        "    print(\"lista de numeros pares\", par)\n",
        "    print(\"lista de numeros impares\", impar)\n",
        "\n",
        "\n",
        "\n",
        "#ejercicio 3\n",
        "crearlistas(x) #lo agregue a la def\n",
        "\n",
        "\n",
        "#ejercicio 4 https://j2logo.com/python/ordenar-una-lista-en-python/\n",
        "impar.sort()\n",
        "print(impar)\n",
        "par.sort(reverse=True)\n",
        "print(par)\n",
        "\n",
        "\n",
        "#ejercicio 5 https://likegeeks.com/es/funciones-de-listas-de-python/#Funciones_agregadas\n",
        "print(len(x))\n",
        "print(min(x))\n",
        "print(max(x))\n",
        "print(sum(x))\n"
      ],
      "execution_count": 81,
      "outputs": [
        {
          "output_type": "stream",
          "text": [
            "la lista es [94294, 69165, 91982, 46528, 22235, 9751, 91518, 99673, 30293, 70483, 20727, 44313, 8465, 66023, 84925, 32045, 39754, 32525, 87560, 19340, 17554, 41895, 27538, 35981, 33691, 85470, 12541, 97627, 59614, 21860, 72150, 22817, 48138, 25966, 23995, 72986, 88039, 8701, 55110, 12508]\n",
            "longitud de lista de numeros par: 18\n",
            "longitu de lista de numeros impares 22\n",
            "lista de numeros pares [94294, 91982, 46528, 91518, 39754, 87560, 19340, 17554, 27538, 85470, 59614, 21860, 72150, 48138, 25966, 72986, 55110, 12508]\n",
            "lista de numeros impares [69165, 22235, 9751, 99673, 30293, 70483, 20727, 44313, 8465, 66023, 84925, 32045, 32525, 41895, 35981, 33691, 12541, 97627, 22817, 23995, 88039, 8701]\n",
            "[7418, 11017, 14007, 18152, 19995, 23935, 36065, 37594, 43234, 50060, 53336, 59877, 62488, 63243, 72673, 74705, 76773, 78162, 78273, 85352, 92770]\n",
            "[92770, 85352, 78273, 78162, 76773, 74705, 72673, 63243, 62488, 59877, 53336, 50060, 43234, 37594, 36065, 23935, 19995, 18152, 14007, 11017, 7418]\n",
            "40\n",
            "8465\n",
            "99673\n",
            "1925780\n"
          ],
          "name": "stdout"
        }
      ]
    }
  ]
}